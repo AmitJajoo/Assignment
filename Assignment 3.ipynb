{
 "cells": [
  {
   "cell_type": "code",
   "execution_count": 14,
   "id": "6f24f83f",
   "metadata": {},
   "outputs": [
    {
     "name": "stdout",
     "output_type": "stream",
     "text": [
      "Enter the number5\n",
      "positive\n"
     ]
    }
   ],
   "source": [
    "number = int(input(\"Enter the number\"))\n",
    "if(number>0):\n",
    "    print(\"positive\")\n",
    "elif(number<0):\n",
    "    print(\"negative\")\n",
    "else:\n",
    "    print(\"zero\")"
   ]
  },
  {
   "cell_type": "code",
   "execution_count": 16,
   "id": "8d71faf9",
   "metadata": {},
   "outputs": [
    {
     "name": "stdout",
     "output_type": "stream",
     "text": [
      "Enter the number5\n",
      "odd\n"
     ]
    }
   ],
   "source": [
    "number = int(input(\"Enter the number\"))\n",
    "if(number%2==0):\n",
    "    print(\"even\")\n",
    "else:\n",
    "    print(\"odd\")"
   ]
  },
  {
   "cell_type": "code",
   "execution_count": 17,
   "id": "6f8e324d",
   "metadata": {},
   "outputs": [
    {
     "name": "stdout",
     "output_type": "stream",
     "text": [
      "leap year\n"
     ]
    }
   ],
   "source": [
    "year = 2000\n",
    "\n",
    "if (year % 400 == 0) and (year % 100 == 0):\n",
    "    print(\"leap year\")\n",
    "\n",
    "elif (year % 4 ==0) and (year % 100 != 0):\n",
    "    print(\"leap year\")\n",
    "\n",
    "else:\n",
    "    print(\"is not a leap year\")"
   ]
  },
  {
   "cell_type": "code",
   "execution_count": 18,
   "id": "6cbfef0e",
   "metadata": {},
   "outputs": [
    {
     "name": "stdout",
     "output_type": "stream",
     "text": [
      "Enter the number13\n",
      "prime number\n"
     ]
    }
   ],
   "source": [
    "number = int(input(\"Enter the number\"))\n",
    "flag = False\n",
    "if(number>1):\n",
    "    for i in range(2,number):\n",
    "        if number%i==0:\n",
    "            flag = True\n",
    "            break\n",
    "if(flag):\n",
    "    print(\"not a prime number\")\n",
    "else:\n",
    "    print(\"prime number\")"
   ]
  },
  {
   "cell_type": "code",
   "execution_count": 24,
   "id": "7e5f6d71",
   "metadata": {},
   "outputs": [
    {
     "name": "stdout",
     "output_type": "stream",
     "text": [
      "Enter the number13\n",
      "1\n",
      "13\n"
     ]
    }
   ],
   "source": [
    "number = int(input(\"Enter the number\"))\n",
    "flag = False\n",
    "for i in range(0,number+1):\n",
    "    if(number>1):\n",
    "        for j in range(2,number):\n",
    "            if i%j==0:\n",
    "                break\n",
    "        else:\n",
    "            print(i)\n",
    "# if(flag):\n",
    "#     print(\"not a prime number\")\n",
    "# else:\n",
    "#     print(\"prime number\")"
   ]
  },
  {
   "cell_type": "code",
   "execution_count": null,
   "id": "b95655d3",
   "metadata": {},
   "outputs": [],
   "source": []
  }
 ],
 "metadata": {
  "kernelspec": {
   "display_name": "Python 3",
   "language": "python",
   "name": "python3"
  },
  "language_info": {
   "codemirror_mode": {
    "name": "ipython",
    "version": 3
   },
   "file_extension": ".py",
   "mimetype": "text/x-python",
   "name": "python",
   "nbconvert_exporter": "python",
   "pygments_lexer": "ipython3",
   "version": "3.8.8"
  }
 },
 "nbformat": 4,
 "nbformat_minor": 5
}
