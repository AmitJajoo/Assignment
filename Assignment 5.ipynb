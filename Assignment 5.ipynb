{
 "cells": [
  {
   "cell_type": "code",
   "execution_count": 41,
   "id": "650e0c30",
   "metadata": {},
   "outputs": [
    {
     "name": "stdout",
     "output_type": "stream",
     "text": [
      "210\n"
     ]
    }
   ],
   "source": [
    "#LCM\n",
    "x=30\n",
    "y=7\n",
    "\n",
    "if(x>y):\n",
    "    greater = x\n",
    "else:\n",
    "    greater = y\n",
    "\n",
    "while True:\n",
    "    if greater%x==0 and greater%y==0:\n",
    "        lcm = greater\n",
    "        break\n",
    "    greater+=1\n",
    "print(lcm)"
   ]
  },
  {
   "cell_type": "code",
   "execution_count": 45,
   "id": "a930397f",
   "metadata": {},
   "outputs": [
    {
     "name": "stdout",
     "output_type": "stream",
     "text": [
      "10\n"
     ]
    }
   ],
   "source": [
    "#HCF\n",
    "x=30\n",
    "y=10\n",
    "\n",
    "if(x>y):\n",
    "    smaller = y\n",
    "else:\n",
    "    smaller = x\n",
    "\n",
    "for i in range(1, smaller+1):\n",
    "    if x%i==0 and y%i==0:\n",
    "        hcf = smaller\n",
    "        break\n",
    "    smaller+=1\n",
    "print(hcf)"
   ]
  },
  {
   "cell_type": "code",
   "execution_count": 47,
   "id": "22873d1d",
   "metadata": {},
   "outputs": [
    {
     "name": "stdout",
     "output_type": "stream",
     "text": [
      "The decimal value of 35 is:\n",
      "0b100011 in binary.\n",
      "0o43 in octal.\n",
      "0x23 in hexadecimal.\n"
     ]
    }
   ],
   "source": [
    "dec = 35\n",
    "\n",
    "print(\"The decimal value of\", dec, \"is:\")\n",
    "print(bin(dec), \"in binary.\")\n",
    "print(oct(dec), \"in octal.\")\n",
    "print(hex(dec), \"in hexadecimal.\")"
   ]
  },
  {
   "cell_type": "code",
   "execution_count": 53,
   "id": "2e6871f0",
   "metadata": {},
   "outputs": [
    {
     "name": "stdout",
     "output_type": "stream",
     "text": [
      "97\n"
     ]
    }
   ],
   "source": [
    "c = 'a'\n",
    "print(str(ord(c)))"
   ]
  },
  {
   "cell_type": "code",
   "execution_count": 54,
   "id": "6da8f750",
   "metadata": {},
   "outputs": [
    {
     "name": "stdout",
     "output_type": "stream",
     "text": [
      "4\n",
      "0\n",
      "4\n",
      "1.0\n"
     ]
    }
   ],
   "source": [
    "def add(x, y):\n",
    "    return x + y\n",
    "\n",
    "def subtract(x, y):\n",
    "    return x - y\n",
    "\n",
    "def multiply(x, y):\n",
    "    return x * y\n",
    "\n",
    "def divide(x, y):\n",
    "    return x / y\n",
    "\n",
    "x=2\n",
    "y=2\n",
    "\n",
    "print(add(x,y))\n",
    "print(subtract(x,y))\n",
    "print(multiply(x,y))\n",
    "print(divide(x,y))"
   ]
  },
  {
   "cell_type": "code",
   "execution_count": null,
   "id": "b50888d5",
   "metadata": {},
   "outputs": [],
   "source": []
  },
  {
   "cell_type": "code",
   "execution_count": null,
   "id": "38f28f36",
   "metadata": {},
   "outputs": [],
   "source": []
  }
 ],
 "metadata": {
  "kernelspec": {
   "display_name": "Python 3",
   "language": "python",
   "name": "python3"
  },
  "language_info": {
   "codemirror_mode": {
    "name": "ipython",
    "version": 3
   },
   "file_extension": ".py",
   "mimetype": "text/x-python",
   "name": "python",
   "nbconvert_exporter": "python",
   "pygments_lexer": "ipython3",
   "version": "3.8.8"
  }
 },
 "nbformat": 4,
 "nbformat_minor": 5
}
