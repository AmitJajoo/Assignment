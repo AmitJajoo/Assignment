{
 "cells": [
  {
   "cell_type": "code",
   "execution_count": 61,
   "id": "c4d8fe44",
   "metadata": {},
   "outputs": [
    {
     "name": "stdout",
     "output_type": "stream",
     "text": [
      "Enter number10\n",
      "0\n",
      "1\n",
      "1\n",
      "2\n",
      "3\n",
      "5\n",
      "8\n",
      "13\n",
      "21\n",
      "34\n",
      "55\n"
     ]
    }
   ],
   "source": [
    "def fab(n):\n",
    "    if n<=1:\n",
    "        return n\n",
    "    return fab(n-1)+fab(n-2)\n",
    "n  =  int(input(\"Enter number\"))\n",
    "for i in range(0,n+1):\n",
    "    print(fab(i))"
   ]
  },
  {
   "cell_type": "code",
   "execution_count": 62,
   "id": "f543eea0",
   "metadata": {},
   "outputs": [
    {
     "data": {
      "text/plain": [
       "120"
      ]
     },
     "execution_count": 62,
     "metadata": {},
     "output_type": "execute_result"
    }
   ],
   "source": [
    "def factorial(n):\n",
    "    if(n<=1):\n",
    "        return n\n",
    "    return n*factorial(n-1)\n",
    "factorial(5)"
   ]
  },
  {
   "cell_type": "code",
   "execution_count": 67,
   "id": "93fd6f60",
   "metadata": {},
   "outputs": [
    {
     "name": "stdout",
     "output_type": "stream",
     "text": [
      "2.14\n"
     ]
    }
   ],
   "source": [
    "weight = 77\n",
    "height = 6\n",
    "\n",
    "\n",
    "print(round(weight / (height * height), 2))"
   ]
  },
  {
   "cell_type": "code",
   "execution_count": 68,
   "id": "c521c732",
   "metadata": {},
   "outputs": [
    {
     "name": "stdout",
     "output_type": "stream",
     "text": [
      "Enter number2\n"
     ]
    },
    {
     "data": {
      "text/plain": [
       "1.6094379124341003"
      ]
     },
     "execution_count": 68,
     "metadata": {},
     "output_type": "execute_result"
    }
   ],
   "source": [
    "import math\n",
    "num = int(input(\"Enter number\"))\n",
    "math.log(number)"
   ]
  },
  {
   "cell_type": "code",
   "execution_count": 71,
   "id": "4fa04350",
   "metadata": {},
   "outputs": [
    {
     "name": "stdout",
     "output_type": "stream",
     "text": [
      "100.0\n"
     ]
    }
   ],
   "source": [
    "n=4\n",
    "S = (n**2* (n + 1)**2)/4\n",
    "print(str(S))"
   ]
  },
  {
   "cell_type": "code",
   "execution_count": null,
   "id": "5e6d6a0f",
   "metadata": {},
   "outputs": [],
   "source": []
  },
  {
   "cell_type": "code",
   "execution_count": null,
   "id": "c810d0c8",
   "metadata": {},
   "outputs": [],
   "source": []
  }
 ],
 "metadata": {
  "kernelspec": {
   "display_name": "Python 3",
   "language": "python",
   "name": "python3"
  },
  "language_info": {
   "codemirror_mode": {
    "name": "ipython",
    "version": 3
   },
   "file_extension": ".py",
   "mimetype": "text/x-python",
   "name": "python",
   "nbconvert_exporter": "python",
   "pygments_lexer": "ipython3",
   "version": "3.8.8"
  }
 },
 "nbformat": 4,
 "nbformat_minor": 5
}
