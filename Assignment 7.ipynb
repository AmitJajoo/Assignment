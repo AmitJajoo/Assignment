{
 "cells": [
  {
   "cell_type": "code",
   "execution_count": 3,
   "id": "c4d8fe44",
   "metadata": {},
   "outputs": [
    {
     "name": "stdout",
     "output_type": "stream",
     "text": [
      "21\n"
     ]
    }
   ],
   "source": [
    "li = [1,2,3,4,5,6]\n",
    "sum = 0\n",
    "for i in li:\n",
    "    sum += i\n",
    "print(sum)"
   ]
  },
  {
   "cell_type": "code",
   "execution_count": 6,
   "id": "f543eea0",
   "metadata": {},
   "outputs": [
    {
     "name": "stdout",
     "output_type": "stream",
     "text": [
      "89\n"
     ]
    }
   ],
   "source": [
    "li = [12,43,67,23,89,34]\n",
    "li.sort(reverse=True)\n",
    "print(li[0])"
   ]
  },
  {
   "cell_type": "code",
   "execution_count": 7,
   "id": "93fd6f60",
   "metadata": {},
   "outputs": [
    {
     "name": "stdout",
     "output_type": "stream",
     "text": [
      "[12, 13, 14, 15, 16, 17, 11]\n"
     ]
    }
   ],
   "source": [
    "def rotateArray(arr, n, d):\n",
    "    temp = []\n",
    "    i = 0\n",
    "    while (i < d):\n",
    "        temp.append(arr[i])\n",
    "        i = i + 1\n",
    "    i = 0\n",
    "    while (d < n):\n",
    "        arr[i] = arr[d]\n",
    "        i = i + 1\n",
    "        d = d + 1\n",
    "    arr[:] = arr[: i] + temp\n",
    "    return arr\n",
    " \n",
    "arr = [11, 12, 13, 14, 15, 16, 17]\n",
    "print(rotateArray(arr, len(arr), 1))"
   ]
  },
  {
   "cell_type": "code",
   "execution_count": 16,
   "id": "c521c732",
   "metadata": {},
   "outputs": [
    {
     "name": "stdout",
     "output_type": "stream",
     "text": [
      "[4, 5, 6, 7, 8, 1, 2, 3]\n"
     ]
    }
   ],
   "source": [
    "arr  =  [1,2,3,4,5,6,7,8]\n",
    "split = 3\n",
    "arr1 = arr[:split]\n",
    "arr2 = arr[split:]\n",
    "arr = arr2 + arr1\n",
    "print(arr)"
   ]
  },
  {
   "cell_type": "code",
   "execution_count": 22,
   "id": "4fa04350",
   "metadata": {},
   "outputs": [
    {
     "name": "stdout",
     "output_type": "stream",
     "text": [
      "Monotonic\n"
     ]
    }
   ],
   "source": [
    "arr = [1,2,3,45,67]\n",
    "x,y=[],[]\n",
    "\n",
    "x.extend(arr)\n",
    "x.sort()\n",
    "\n",
    "y.extend(arr)\n",
    "y.sort(reverse=True)\n",
    "\n",
    "if(x == arr or y == arr):\n",
    "    print(\"Monotonic\")\n",
    "else:\n",
    "    print(\"No monotonic\")"
   ]
  },
  {
   "cell_type": "code",
   "execution_count": null,
   "id": "5e6d6a0f",
   "metadata": {},
   "outputs": [],
   "source": []
  },
  {
   "cell_type": "code",
   "execution_count": null,
   "id": "c810d0c8",
   "metadata": {},
   "outputs": [],
   "source": []
  }
 ],
 "metadata": {
  "kernelspec": {
   "display_name": "Python 3",
   "language": "python",
   "name": "python3"
  },
  "language_info": {
   "codemirror_mode": {
    "name": "ipython",
    "version": 3
   },
   "file_extension": ".py",
   "mimetype": "text/x-python",
   "name": "python",
   "nbconvert_exporter": "python",
   "pygments_lexer": "ipython3",
   "version": "3.8.8"
  }
 },
 "nbformat": 4,
 "nbformat_minor": 5
}
