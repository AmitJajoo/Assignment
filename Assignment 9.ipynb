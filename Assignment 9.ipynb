{
 "cells": [
  {
   "cell_type": "code",
   "execution_count": 40,
   "id": "c4d8fe44",
   "metadata": {},
   "outputs": [
    {
     "name": "stdout",
     "output_type": "stream",
     "text": [
      "Enter the number175\n",
      "Disarium Number\n"
     ]
    }
   ],
   "source": [
    "x=int(input(\"Enter the number\"))\n",
    "temp = str(x)\n",
    "num = 0\n",
    "for i in range(0,len(str(x))):\n",
    "    num = num + int(int(temp[i])**(i+1))\n",
    "if(x==num):\n",
    "    print(\"Disarium Number\")\n",
    "else:\n",
    "    print(\"No Disarium Number\")"
   ]
  },
  {
   "cell_type": "code",
   "execution_count": 48,
   "id": "f543eea0",
   "metadata": {},
   "outputs": [
    {
     "name": "stdout",
     "output_type": "stream",
     "text": [
      "0\n",
      "1\n",
      "2\n",
      "3\n",
      "4\n",
      "5\n",
      "6\n",
      "7\n",
      "8\n",
      "9\n",
      "89\n"
     ]
    }
   ],
   "source": [
    "for i in range(0,100):\n",
    "    temp = str(i)\n",
    "    num=0\n",
    "    for j in range(0,len(str(i))):\n",
    "        num =  num + int(int(temp[j])**(j+1))\n",
    "        if(i==num):\n",
    "            print(i)"
   ]
  },
  {
   "cell_type": "code",
   "execution_count": 50,
   "id": "93fd6f60",
   "metadata": {},
   "outputs": [
    {
     "name": "stdout",
     "output_type": "stream",
     "text": [
      "The number is being checked\n",
      "86 is a happy number\n"
     ]
    }
   ],
   "source": [
    "def check_happy_num(my_num):\n",
    "    remaining = sum_val = 0\n",
    "    while(my_num > 0):\n",
    "        remaining = my_num%10\n",
    "        sum_val = sum_val + (remaining*remaining)\n",
    "        my_num = my_num//10\n",
    "    return sum_val;\n",
    "my_num = 86\n",
    "my_result = my_num\n",
    "while(my_result != 1 and my_result != 4):\n",
    "    my_result = check_happy_num(my_result);\n",
    "print(\"The number is being checked\")\n",
    "if(my_result == 1):\n",
    "    print(str(my_num) + \" is a happy number\")\n",
    "elif(my_result == 4):\n",
    "    print(str(my_num) + \" isn't a happy number\")"
   ]
  },
  {
   "cell_type": "code",
   "execution_count": 53,
   "id": "c521c732",
   "metadata": {},
   "outputs": [
    {
     "name": "stdout",
     "output_type": "stream",
     "text": [
      "1 7 10 13 19 23 28 31 32 44 49 68 70 79 82 86 91 94 97 100 "
     ]
    }
   ],
   "source": [
    "def isHappyNumber(num):    \n",
    "    rem = sum = 0;    \n",
    "        \n",
    "    while(num > 0):    \n",
    "        rem = num%10;    \n",
    "        sum = sum + (rem*rem);    \n",
    "        num = num//10;    \n",
    "    return sum;    \n",
    "            \n",
    "for i in range(1, 101):    \n",
    "    result = i;    \n",
    "        \n",
    "    while(result != 1 and result != 4):    \n",
    "        result = isHappyNumber(result);    \n",
    "        \n",
    "    if(result == 1):    \n",
    "        print(i,end=\" \")"
   ]
  },
  {
   "cell_type": "code",
   "execution_count": 54,
   "id": "4fa04350",
   "metadata": {},
   "outputs": [
    {
     "name": "stdout",
     "output_type": "stream",
     "text": [
      "156 is a harshad number\n"
     ]
    }
   ],
   "source": [
    "num = 156   \n",
    "rem = sum = 0    \n",
    "     \n",
    "n = num   \n",
    "     \n",
    "while(num > 0):    \n",
    "    rem = num%10;    \n",
    "    sum = sum + rem;    \n",
    "    num = num//10;    \n",
    "if(n%sum == 0):    \n",
    "    print(str(n) + \" is a harshad number\");    \n",
    "else:    \n",
    "    print(str(n) + \" is not a harshad number\");"
   ]
  },
  {
   "cell_type": "code",
   "execution_count": 57,
   "id": "5e6d6a0f",
   "metadata": {},
   "outputs": [
    {
     "name": "stdout",
     "output_type": "stream",
     "text": [
      "0 2 6 12 20 30 42 56 72 90 "
     ]
    }
   ],
   "source": [
    "def checkPronic(Number):\n",
    "    flag = 0\n",
    "    for i in range(Number + 1):\n",
    "        if Number == i * (i + 1):\n",
    "            flag = 1\n",
    "            break\n",
    "    return flag\n",
    "\n",
    "for i in range(0, 100):\n",
    "    if(checkPronic(i) == 1):\n",
    "        print(i, end = ' ')"
   ]
  },
  {
   "cell_type": "code",
   "execution_count": null,
   "id": "c810d0c8",
   "metadata": {},
   "outputs": [],
   "source": []
  }
 ],
 "metadata": {
  "kernelspec": {
   "display_name": "Python 3",
   "language": "python",
   "name": "python3"
  },
  "language_info": {
   "codemirror_mode": {
    "name": "ipython",
    "version": 3
   },
   "file_extension": ".py",
   "mimetype": "text/x-python",
   "name": "python",
   "nbconvert_exporter": "python",
   "pygments_lexer": "ipython3",
   "version": "3.8.8"
  }
 },
 "nbformat": 4,
 "nbformat_minor": 5
}
