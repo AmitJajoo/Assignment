{
 "cells": [
  {
   "cell_type": "markdown",
   "id": "273b97ac",
   "metadata": {},
   "source": [
    "Question 1:- Create a function that takes an integer and returns a list from 1 to the given number, where:\n",
    "1. If the number can be divided evenly by 4, amplify it by 10 (i.e. return 10 times the\n",
    "number).\n",
    "2. If the number cannot be divided evenly by 4, simply return the number."
   ]
  },
  {
   "cell_type": "code",
   "execution_count": 5,
   "id": "fb722327",
   "metadata": {},
   "outputs": [
    {
     "name": "stdout",
     "output_type": "stream",
     "text": [
      "[1, 2, 3, 40]\n",
      "[1, 2, 3, 40, 5, 6, 7, 80, 9, 10, 11, 120, 13, 14, 15, 160, 17, 18, 19, 200, 21, 22, 23, 240, 25]\n"
     ]
    }
   ],
   "source": [
    "def amplify(number):\n",
    "    li=[]\n",
    "    for i in range(1,number+1):\n",
    "        if(i%4==0):\n",
    "            li.append(i*10)\n",
    "        else:\n",
    "            li.append(i)\n",
    "    return li\n",
    "print(amplify(4))\n",
    "print(amplify(25))"
   ]
  },
  {
   "cell_type": "markdown",
   "id": "486c3326",
   "metadata": {},
   "source": [
    "Question 2:- Create a function that takes a list of numbers and return the number that's unique."
   ]
  },
  {
   "cell_type": "code",
   "execution_count": 24,
   "id": "322d94c7",
   "metadata": {},
   "outputs": [
    {
     "name": "stdout",
     "output_type": "stream",
     "text": [
      "7\n"
     ]
    }
   ],
   "source": [
    "from collections import defaultdict\n",
    "def unique(li):\n",
    "    \n",
    "    D = defaultdict(list)\n",
    "    for i,item in enumerate(li):\n",
    "        D[item].append(i)\n",
    "    D = {k:v for k,v in D.items() if len(v)==1}\n",
    "    index =list(D.keys())[0]\n",
    "#     print(li[index[0]])\n",
    "    return index\n",
    "print(unique([3, 3, 3, 7, 3, 3]))\n"
   ]
  },
  {
   "cell_type": "markdown",
   "id": "3d51c9fb",
   "metadata": {},
   "source": [
    "Question 3:- Your task is to create a Circle constructor that creates a circle with a radius provided by an\n",
    "argument. The circles constructed must have two getters getArea() (PIr^2) and\n",
    "getPerimeter() (2PI*r) which give both respective areas and perimeter (circumference).\n",
    "For help with this class, I have provided you with a Rectangle constructor which you can use\n",
    "as a base example."
   ]
  },
  {
   "cell_type": "code",
   "execution_count": 31,
   "id": "2df6e962",
   "metadata": {},
   "outputs": [
    {
     "name": "stdout",
     "output_type": "stream",
     "text": [
      "380.1327110843649\n",
      "27.897342763877365\n"
     ]
    }
   ],
   "source": [
    "import math\n",
    "class Circle:\n",
    "    def __init__(self,radius):\n",
    "        self.radius = radius\n",
    "        \n",
    "    def getArea(self):\n",
    "        return math.pi*self.radius*self.radius\n",
    "    \n",
    "    def getPerimeter(self):\n",
    "        return 2*math.pi*self.radius\n",
    "circy = Circle(11)\n",
    "print(circy.getArea())\n",
    "\n",
    "\n",
    "circy = Circle(4.44)\n",
    "print(circy.getPerimeter())"
   ]
  },
  {
   "cell_type": "code",
   "execution_count": null,
   "id": "97b056f4",
   "metadata": {},
   "outputs": [],
   "source": []
  },
  {
   "cell_type": "code",
   "execution_count": 32,
   "id": "b79efc6c",
   "metadata": {},
   "outputs": [
    {
     "name": "stdout",
     "output_type": "stream",
     "text": [
      "['Apple', 'Google', 'Microsoft']\n"
     ]
    }
   ],
   "source": [
    "def sort_by_length(lst):\n",
    "    lst2 = sorted(lst, key=len)\n",
    "    return lst2\n",
    "sort=sort_by_length([\"Google\",\"Apple\", \"Microsoft\"])\n",
    "print(sort)"
   ]
  },
  {
   "cell_type": "code",
   "execution_count": null,
   "id": "b81970e8",
   "metadata": {},
   "outputs": [],
   "source": []
  },
  {
   "cell_type": "code",
   "execution_count": 33,
   "id": "91ddd09b",
   "metadata": {},
   "outputs": [
    {
     "name": "stdout",
     "output_type": "stream",
     "text": [
      "True\n"
     ]
    }
   ],
   "source": [
    "def is_triplet(num1,num2,num3):\n",
    "    \n",
    "    if (num1 >= num2) and (num1 >= num3):\n",
    "        if(pow(num1,2) == num2**2 + num3**2):\n",
    "            return True\n",
    "        else:\n",
    "            return False\n",
    "    elif (num2 >= num1) and (num2 >= num3):\n",
    "        if(pow(num2,2) == num1**2 + num3**2):\n",
    "            return True\n",
    "        else:\n",
    "            return False\n",
    "    else:\n",
    "        if(pow(num3,2) == num1**2 + num2**2):\n",
    "            return True\n",
    "        else:\n",
    "            return False\n",
    "print(is_triplet(3, 4, 5))"
   ]
  },
  {
   "cell_type": "code",
   "execution_count": null,
   "id": "ff63394b",
   "metadata": {},
   "outputs": [],
   "source": []
  }
 ],
 "metadata": {
  "kernelspec": {
   "display_name": "Python 3",
   "language": "python",
   "name": "python3"
  },
  "language_info": {
   "codemirror_mode": {
    "name": "ipython",
    "version": 3
   },
   "file_extension": ".py",
   "mimetype": "text/x-python",
   "name": "python",
   "nbconvert_exporter": "python",
   "pygments_lexer": "ipython3",
   "version": "3.8.8"
  }
 },
 "nbformat": 4,
 "nbformat_minor": 5
}
