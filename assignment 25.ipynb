{
 "cells": [
  {
   "cell_type": "markdown",
   "id": "f6d9ec7a",
   "metadata": {},
   "source": [
    "Question 1:- Create a function that takes three integer arguments (a, b, c) and returns the amount of\n",
    "integers which are of equal value."
   ]
  },
  {
   "cell_type": "code",
   "execution_count": 1,
   "id": "0501540d",
   "metadata": {},
   "outputs": [
    {
     "name": "stdout",
     "output_type": "stream",
     "text": [
      "0\n"
     ]
    }
   ],
   "source": [
    "def equalNumberChecking(a,b,c):\n",
    "    count = 0\n",
    "    if(a==b):\n",
    "        print(\"first\")\n",
    "        count = count+1\n",
    "    if(a==c):\n",
    "        print(\"second\")\n",
    "        count = count+1\n",
    "    if(b==c):\n",
    "        print(\"third\")\n",
    "        count = count+1\n",
    "    return count\n",
    "print(equalNumberChecking(1,3,2))"
   ]
  },
  {
   "cell_type": "markdown",
   "id": "495ed5ee",
   "metadata": {},
   "source": [
    "Question 2:- Write a function that converts a dictionary into a list of keys-values tuples."
   ]
  },
  {
   "cell_type": "code",
   "execution_count": 3,
   "id": "e96ec56f",
   "metadata": {},
   "outputs": [
    {
     "name": "stdout",
     "output_type": "stream",
     "text": [
      "[('B', 2), ('C', 3), ('D', 1)]\n"
     ]
    }
   ],
   "source": [
    "def dictToList(dic):\n",
    "    sorted_dict = {key: value for key, value in sorted(dic.items())}\n",
    "\n",
    "    li = list(sorted_dict.items())\n",
    "    return li\n",
    "dic = {\"D\":1,\"B\":2,\"C\":3}\n",
    "print(dictToList(dic))"
   ]
  },
  {
   "cell_type": "markdown",
   "id": "d369fedc",
   "metadata": {},
   "source": [
    "Question 3:- Write a function that creates a dictionary with each (key, value) pair being the (lower case,\n",
    "upper case) versions of a letter, respectively."
   ]
  },
  {
   "cell_type": "code",
   "execution_count": 4,
   "id": "e3c1d813",
   "metadata": {},
   "outputs": [
    {
     "name": "stdout",
     "output_type": "stream",
     "text": [
      "{'a': 'A', 'b': 'B'}\n"
     ]
    }
   ],
   "source": [
    "def dicLetter(li):\n",
    "    dic = dict((i, i.upper()) for i in li)\n",
    "    return dic\n",
    "print(dicLetter(['a','b']))"
   ]
  },
  {
   "cell_type": "markdown",
   "id": "0eae0874",
   "metadata": {},
   "source": [
    "Question 4:- Write a function, that replaces all vowels in a string with a specified vowel."
   ]
  },
  {
   "cell_type": "code",
   "execution_count": 11,
   "id": "d6a4fb68",
   "metadata": {},
   "outputs": [
    {
     "name": "stdout",
     "output_type": "stream",
     "text": [
      "uupples und bununuss\n",
      "chooso  cassorolo\n"
     ]
    }
   ],
   "source": [
    "def vow_replace(text,wordChange):\n",
    "    t=''\n",
    "    for i in range(0,len(text)):\n",
    "        if(text[i]=='a' or text[i]=='e' or text[i]=='i' or text[i]=='o' or text[i]=='u'):\n",
    "            t = text.replace(text[i],wordChange)\n",
    "        else:\n",
    "            t+=text[i]\n",
    "    return t\n",
    "            \n",
    "\n",
    "print(vow_replace(\"apples and bananas\", \"u\"))\n",
    "print(vow_replace(\"cheese  casserole\", \"o\"))"
   ]
  },
  {
   "cell_type": "code",
   "execution_count": null,
   "id": "1b89675e",
   "metadata": {},
   "outputs": [],
   "source": []
  }
 ],
 "metadata": {
  "kernelspec": {
   "display_name": "Python 3",
   "language": "python",
   "name": "python3"
  },
  "language_info": {
   "codemirror_mode": {
    "name": "ipython",
    "version": 3
   },
   "file_extension": ".py",
   "mimetype": "text/x-python",
   "name": "python",
   "nbconvert_exporter": "python",
   "pygments_lexer": "ipython3",
   "version": "3.8.8"
  }
 },
 "nbformat": 4,
 "nbformat_minor": 5
}
